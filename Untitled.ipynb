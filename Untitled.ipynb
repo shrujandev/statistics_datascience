{
 "cells": [
  {
   "cell_type": "code",
   "execution_count": 1,
   "id": "b990a660",
   "metadata": {},
   "outputs": [],
   "source": [
    "from bs4 import BeautifulSoup as bs\n",
    "import requests as rq\n",
    "import pandas as pd"
   ]
  },
  {
   "cell_type": "code",
   "execution_count": 5,
   "id": "cfda14b5",
   "metadata": {},
   "outputs": [
    {
     "data": {
      "text/plain": [
       "['Flipkart Customer',\n",
       " 'Kanhaiya khichi  khatik ',\n",
       " 'Shivani Kadam',\n",
       " 'Chandu V',\n",
       " 'Arijit  Chatterjee ',\n",
       " 'Suryabhan  Yadav',\n",
       " 'Sourav Roy',\n",
       " 'Rehan Khan',\n",
       " 'Aakash Bej',\n",
       " 'Aryan  Singh tiwari',\n",
       " 'Flipkart Customer',\n",
       " 'atin  bansal',\n",
       " 'Flipkart Customer',\n",
       " 'Suryasaravanan Moorthy',\n",
       " 'Waleed Khalid Siraj',\n",
       " 'suraj mohite',\n",
       " 'Flipkart Customer',\n",
       " 'Jaysukh J S',\n",
       " 'ABIR BHATTACHARJEE',\n",
       " 'Flipkart Customer']"
      ]
     },
     "execution_count": 5,
     "metadata": {},
     "output_type": "execute_result"
    }
   ],
   "source": [
    "cust_name=[]\n",
    "for i in range(0,3):\n",
    "    link = f\"https://www.flipkart.com/realme-buds-2-wired-headset/product-reviews/itmaefc42e261f9d?pid=ACCFMGJYG25NE3BZ&lid=LSTACCFMGJYG25NE3BZVKPSTS&marketplace=FLIPKART&page={i}\"\n",
    "    page = rq.get(link)\n",
    "    soup = bs(page.content,'html.parser')\n",
    "    name = soup.find_all('p',class_=\"_2sc7ZR _2V5EHH\")\n",
    "    for j in range(0,len(name)):\n",
    "        cust_name.append(name[j].get_text())\n",
    "cust_name\n",
    "    "
   ]
  },
  {
   "cell_type": "code",
   "execution_count": 9,
   "id": "586d5b30",
   "metadata": {},
   "outputs": [
    {
     "data": {
      "text/plain": [
       "['Kanhaiya khichi  khatik ',\n",
       " 'Shivani Kadam',\n",
       " 'Chandu V',\n",
       " 'Arijit  Chatterjee ',\n",
       " 'Suryabhan  Yadav',\n",
       " 'Sourav Roy',\n",
       " 'Rehan Khan',\n",
       " 'Aakash Bej',\n",
       " 'Aryan  Singh tiwari',\n",
       " 'atin  bansal',\n",
       " 'Suryasaravanan Moorthy',\n",
       " 'Waleed Khalid Siraj',\n",
       " 'suraj mohite',\n",
       " 'Jaysukh J S',\n",
       " 'ABIR BHATTACHARJEE']"
      ]
     },
     "execution_count": 9,
     "metadata": {},
     "output_type": "execute_result"
    }
   ],
   "source": [
    "for i in range(0,len(cust_name)):\n",
    "    if cust_name[i]==\"Flipkart Customer\":\n",
    "        cust_name.pop(i)\n",
    "cust_name\n",
    "        "
   ]
  },
  {
   "cell_type": "code",
   "execution_count": null,
   "id": "9d69867f",
   "metadata": {},
   "outputs": [],
   "source": []
  }
 ],
 "metadata": {
  "kernelspec": {
   "display_name": "Python 3",
   "language": "python",
   "name": "python3"
  },
  "language_info": {
   "codemirror_mode": {
    "name": "ipython",
    "version": 3
   },
   "file_extension": ".py",
   "mimetype": "text/x-python",
   "name": "python",
   "nbconvert_exporter": "python",
   "pygments_lexer": "ipython3",
   "version": "3.8.8"
  }
 },
 "nbformat": 4,
 "nbformat_minor": 5
}
